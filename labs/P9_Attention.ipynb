{
  "cells": [
    {
      "cell_type": "markdown",
      "metadata": {
        "id": "-JGr-h1xvTOZ"
      },
      "source": [
        "# MNIST Simple Pointer Network\n",
        "\n",
        "In this notebook we will learn how to create a simple [Pointer Network](https://arxiv.org/abs/1506.03134) (Vinyals et al. 2015) for solving a dummy task on the MNIST dataset.\n",
        "\n",
        "A Pointer Network uses the **attention mechanism’s** output to model the conditional probability of each element on its input. This can be extremely useful in tasks that require selecting one (or more) elements of the input sequence/set to be solved.\n",
        "\n",
        "In this notebook we will play with a simple Pointer net to solve the following task: Given an MNIST image with a (query) digit we want our model to find the image that contains the consecutive digit to the query image among a set of input images. For example, imagine we use an image with the digit \"5\" as query and let the input of the model be a set of 10 images with different digits, the output of our model must be a probability distribution over those 10 images indicating the presence or not of the digit \"6\" in each of them."
      ]
    },
    {
      "cell_type": "code",
      "execution_count": 1,
      "metadata": {
        "colab": {
          "base_uri": "https://localhost:8080/"
        },
        "id": "h4Z7-Wm7_5K6",
        "outputId": "8d77dbed-6317-4111-bfd6-b7c92eb1d839"
      },
      "outputs": [
        {
          "output_type": "stream",
          "name": "stdout",
          "text": [
            "PyTorch Version:  2.0.0+cu118\n"
          ]
        }
      ],
      "source": [
        "import torch\n",
        "import torchvision\n",
        "import torch.nn as nn\n",
        "import torch.optim as optim\n",
        "import numpy as np\n",
        "from torch.utils.data import Dataset, DataLoader\n",
        "\n",
        "import matplotlib.pyplot as plt\n",
        "from collections import Counter\n",
        "import time\n",
        "import os\n",
        "import copy\n",
        "print(\"PyTorch Version: \",torch.__version__)"
      ]
    },
    {
      "cell_type": "code",
      "execution_count": 2,
      "metadata": {
        "colab": {
          "base_uri": "https://localhost:8080/"
        },
        "id": "RNJh2q4lQGYF",
        "outputId": "07861124-97fa-4c0e-a9a4-001fb27850cf"
      },
      "outputs": [
        {
          "output_type": "stream",
          "name": "stdout",
          "text": [
            "Using device: cuda\n"
          ]
        }
      ],
      "source": [
        "#If this cell fails you need to change the runtime of your colab notebook to GPU\n",
        "# Go to Runtime -> Change Runtime Type and select GPU\n",
        "assert torch.cuda.is_available(), \"GPU is not enabled\"\n",
        "\n",
        "#  use gpu if available\n",
        "device = torch.device(\"cuda\" if torch.cuda.is_available() else \"cpu\")\n",
        "print(\"Using device:\", device)"
      ]
    },
    {
      "cell_type": "markdown",
      "metadata": {
        "id": "CyM0DXter9Mp"
      },
      "source": [
        "### Create the dataset\n",
        "\n",
        "Let's start creating a Dataset class to understand better the task we want to solve. Each sample in out dataset will be formed by:\n",
        "\n",
        "* a query image\n",
        "* a set of 10 images, 9 of them selected randomly (distractors) and one selected as the consecutive digit of the digit in the query image.\n",
        "* the ground truth: a 10-D one hot vector indicating the position of the image we want our model to select (\"point to\")."
      ]
    },
    {
      "cell_type": "code",
      "execution_count": 3,
      "metadata": {
        "id": "XksdVS7GHWw0"
      },
      "outputs": [],
      "source": [
        "class MNISTAttentionDataset(Dataset):\n",
        "    \"\"\"MNIST attention toy dataset.\"\"\"\n",
        "\n",
        "    def __init__(self, num_inputs, train=True):\n",
        "        \"\"\"\n",
        "        Args:\n",
        "            num_inputs (int) - The number of images in the input of our model.\n",
        "            train (bool, optional) – If True, creates dataset from MNIST training\n",
        "                samples, otherwise from test\n",
        "        \"\"\"\n",
        "        \n",
        "        self.num_inputs = num_inputs\n",
        "        self.mnist = torchvision.datasets.MNIST('../data', train=train, download=True)\n",
        "        \n",
        "        # dict with samples for each class label\n",
        "        self.data = {}\n",
        "        for label in range(10):\n",
        "            #Collect in separate lists the different digits, and normalise values to [0, 1]\n",
        "            self.data[label] = self.mnist.data[self.mnist.targets == label] / 255.0\n",
        "\n",
        "        \n",
        "\n",
        "    def __len__(self):\n",
        "        # The length makes little sense here, as we generate samples dynamically\n",
        "        # Here we return the number of images originally in the dataset\n",
        "        return self.mnist.data.shape[0]\n",
        "\n",
        "    def __getitem__(self, idx):\n",
        "        \"\"\"\n",
        "        Args:\n",
        "            idx (int) - an index indicating which digit should be used as query\n",
        "        \"\"\"\n",
        "        c = self.mnist.targets[idx].item()     # Find out which is the class of the digit requested\n",
        "        query = self.mnist.data[idx].flatten() / float(255) # Get the data for the digit requested\n",
        "\n",
        "        correct_pos = np.random.randint(0, self.num_inputs) # Decide on a random position where the correct answer will be\n",
        "        \n",
        "        inputs = np.zeros((self.num_inputs, 784)) # Create an array to hold the inputs (from which we have to select one)\n",
        "        for j in range(self.num_inputs):\n",
        "            if j == correct_pos: # In the correct position, place a random digit that comes from the c+1 class\n",
        "                idx = np.random.randint(0,self.data[(c+1)%10].shape[0])\n",
        "                inputs[j,:] = self.data[(c+1)%10][idx,:].flatten()\n",
        "            else: # In the rest of the positions, place random digits that come from the rest of the classes\n",
        "                c_distractor = np.random.choice([n for n in [0,1,2,3,4,5,6,7,8,9] if n!=(c+1)%10])\n",
        "                idx = np.random.randint(0,self.data[c_distractor].shape[0])\n",
        "                inputs[j,:] = self.data[c_distractor][idx,:].flatten()\n",
        "            \n",
        "        sample = {'x': inputs, 'query': query, 'y': correct_pos}\n",
        "\n",
        "        return sample"
      ]
    },
    {
      "cell_type": "code",
      "execution_count": 4,
      "metadata": {
        "id": "hL2kwN-kpjUc",
        "colab": {
          "base_uri": "https://localhost:8080/"
        },
        "outputId": "9476402a-1152-4c05-f7d0-c8be1a162e8f"
      },
      "outputs": [
        {
          "output_type": "stream",
          "name": "stdout",
          "text": [
            "Downloading http://yann.lecun.com/exdb/mnist/train-images-idx3-ubyte.gz\n",
            "Downloading http://yann.lecun.com/exdb/mnist/train-images-idx3-ubyte.gz to ../data/MNIST/raw/train-images-idx3-ubyte.gz\n"
          ]
        },
        {
          "output_type": "stream",
          "name": "stderr",
          "text": [
            "100%|██████████| 9912422/9912422 [00:00<00:00, 123262528.37it/s]\n"
          ]
        },
        {
          "output_type": "stream",
          "name": "stdout",
          "text": [
            "Extracting ../data/MNIST/raw/train-images-idx3-ubyte.gz to ../data/MNIST/raw\n",
            "\n",
            "Downloading http://yann.lecun.com/exdb/mnist/train-labels-idx1-ubyte.gz\n",
            "Downloading http://yann.lecun.com/exdb/mnist/train-labels-idx1-ubyte.gz to ../data/MNIST/raw/train-labels-idx1-ubyte.gz\n"
          ]
        },
        {
          "output_type": "stream",
          "name": "stderr",
          "text": [
            "100%|██████████| 28881/28881 [00:00<00:00, 109724360.35it/s]\n"
          ]
        },
        {
          "output_type": "stream",
          "name": "stdout",
          "text": [
            "Extracting ../data/MNIST/raw/train-labels-idx1-ubyte.gz to ../data/MNIST/raw\n",
            "\n",
            "Downloading http://yann.lecun.com/exdb/mnist/t10k-images-idx3-ubyte.gz\n",
            "Downloading http://yann.lecun.com/exdb/mnist/t10k-images-idx3-ubyte.gz to ../data/MNIST/raw/t10k-images-idx3-ubyte.gz\n"
          ]
        },
        {
          "output_type": "stream",
          "name": "stderr",
          "text": [
            "100%|██████████| 1648877/1648877 [00:00<00:00, 49444784.10it/s]"
          ]
        },
        {
          "output_type": "stream",
          "name": "stdout",
          "text": [
            "Extracting ../data/MNIST/raw/t10k-images-idx3-ubyte.gz to ../data/MNIST/raw\n"
          ]
        },
        {
          "output_type": "stream",
          "name": "stderr",
          "text": [
            "\n"
          ]
        },
        {
          "output_type": "stream",
          "name": "stdout",
          "text": [
            "\n",
            "Downloading http://yann.lecun.com/exdb/mnist/t10k-labels-idx1-ubyte.gz\n",
            "Downloading http://yann.lecun.com/exdb/mnist/t10k-labels-idx1-ubyte.gz to ../data/MNIST/raw/t10k-labels-idx1-ubyte.gz\n"
          ]
        },
        {
          "output_type": "stream",
          "name": "stderr",
          "text": [
            "100%|██████████| 4542/4542 [00:00<00:00, 2333479.76it/s]\n"
          ]
        },
        {
          "output_type": "stream",
          "name": "stdout",
          "text": [
            "Extracting ../data/MNIST/raw/t10k-labels-idx1-ubyte.gz to ../data/MNIST/raw\n",
            "\n"
          ]
        }
      ],
      "source": [
        "num_inputs = 10\n",
        "\n",
        "train_dataset = MNISTAttentionDataset(num_inputs, train=True)\n",
        "test_dataset = MNISTAttentionDataset(num_inputs, train=False)\n",
        "\n",
        "train_loader = DataLoader(train_dataset, batch_size = 64, shuffle = True)\n",
        "test_loader  = DataLoader(test_dataset, batch_size = 1000, shuffle = False)"
      ]
    },
    {
      "cell_type": "markdown",
      "metadata": {
        "id": "RES5R0CMr3bE"
      },
      "source": [
        "### Visualize one training sample"
      ]
    },
    {
      "cell_type": "code",
      "execution_count": 5,
      "metadata": {
        "colab": {
          "base_uri": "https://localhost:8080/",
          "height": 112
        },
        "id": "fJY6zR_lqR41",
        "outputId": "cdf59636-f2c3-47dd-a9c0-c9c5a2534aea"
      },
      "outputs": [
        {
          "output_type": "stream",
          "name": "stdout",
          "text": [
            "Data: (10, 784), Query: torch.Size([784])\n"
          ]
        },
        {
          "output_type": "display_data",
          "data": {
            "text/plain": [
              "<Figure size 3300x300 with 11 Axes>"
            ],
            "image/png": "[encoded data removed]"
          },
          "metadata": {}
        }
      ],
      "source": [
        "sample = train_dataset[0]\n",
        "\n",
        "print(f\"Data: {sample['x'].shape}, Query: {sample['query'].shape}\")\n",
        "\n",
        "fig = plt.figure(figsize=(33, 3))\n",
        "plt.tight_layout()\n",
        "\n",
        "ax = plt.subplot(1, num_inputs + 1, 1)\n",
        "image = sample['query'].reshape(28,28)\n",
        "plt.imshow(image, cmap='gray')\n",
        "plt.plot([0,27,27,0,0], [0,0,27,27,0], c='b') # Draw a blue box around the query sample\n",
        "ax.set_title('Query')\n",
        "ax.axis('off')\n",
        "\n",
        "for i in range(num_inputs):\n",
        "    ax = plt.subplot(1, num_inputs + 1, i+2)\n",
        "    ax.set_title('Sample #{}'.format(i))\n",
        "    ax.axis('off')\n",
        "    image = sample['x'][i].reshape(28,28)\n",
        "    plt.imshow(image, cmap='gray')\n",
        "    if i == sample['y']:\n",
        "        plt.plot([0,27,27,0,0], [0,0,27,27,0], c='g') # Draw a green box around the correct sample\n",
        "        ax.set_title('Target')\n",
        "    else:\n",
        "        plt.plot([0,27,27,0,0], [0,0,27,27,0], c='r') # Draw a blue box around the wrong sample\n",
        "        ax.set_title('Distractor #{}'.format(i))\n",
        "    ax.axis('off')\n",
        "\n",
        "plt.show()"
      ]
    },
    {
      "cell_type": "markdown",
      "metadata": {
        "id": "DVaMM-n2sFF6"
      },
      "source": [
        "### Create the model"
      ]
    },
    {
      "cell_type": "code",
      "execution_count": 6,
      "metadata": {
        "id": "BesD8B1BAW9u"
      },
      "outputs": [],
      "source": [
        "class AttentionModel(nn.Module):\n",
        "    def __init__(self, input_dim, num_inputs, hidden_dim):\n",
        "        super(AttentionModel, self).__init__()\n",
        "        self.hidden_dim = hidden_dim\n",
        "        self.num_inputs = num_inputs\n",
        "        self.input_dim  = input_dim\n",
        "\n",
        "        # Weights (Fully Connected layers) \n",
        "        self.fc_q = nn.Linear(input_dim, hidden_dim) # Query FC\n",
        "        self.fc_k = nn.Linear(input_dim, hidden_dim) # Keys FC. Here the input acts as the keys, and there is no value\n",
        "        self.fc_v = nn.Linear(hidden_dim, 1) # Values FC\n",
        "\n",
        "    def scoringAdditive(self, query, keys):\n",
        "        # Query is                                              (B X 1 X input_dim)\n",
        "        # Repeat (tile) the query so that it has the same size as the keys (input)\n",
        "        query = query.repeat(1, self.num_inputs, 1)           # (B X num_inputs X input_dim)\n",
        "        query = torch.tanh(self.fc_q(query))                  # (B X num_inputs X hidden_dim)\n",
        "\n",
        "        # Keys is                                               (B X num_inputs X input_dim)\n",
        "        keys = torch.tanh(self.fc_k(keys))                    # (B X num_inputs X hidden_dim)\n",
        "        \n",
        "        # Attention Score\n",
        "        score = torch.tanh(query + keys )                     # (B X num_inputs X hidden_dim)\n",
        "        score = self.fc_v(score)                              # (B X num_inputs X 1)        \n",
        "        return score\n",
        "\n",
        "    def forward(self, x, query):\n",
        "        query = query.unsqueeze(1) # (B x input_dim) -> (B x 1 x input_dim)\n",
        "        \n",
        "        # Calculate attention scores\n",
        "        output = self.scoringAdditive(query, x)\n",
        "        output = output.squeeze()       # (B x 1 x num_inputs) -> (B x num_inputs)\n",
        "        return output"
      ]
    },
    {
      "cell_type": "markdown",
      "metadata": {
        "id": "y_yCyvgg9Pbj"
      },
      "source": [
        "<font color=\"blue\">\n",
        "\n",
        "**QUESTION**: The Additive score gives logits that we should pass through a softmax to get the final attention weights. Why is there no softmax in the model above?</font>"
      ]
    },
    {
      "cell_type": "markdown",
      "metadata": {
        "id": "eI8XiuxGQIk7"
      },
      "source": [
        "---\n",
        "    \n",
        "**ANSWER**: As the softmax is already implemented in the loss function CrossEntropyLoss in Pytorch there is no need to implement it in the model above.\n",
        "\n",
        "---"
      ]
    },
    {
      "cell_type": "code",
      "execution_count": 7,
      "metadata": {
        "colab": {
          "base_uri": "https://localhost:8080/"
        },
        "id": "nsyUZE0lHJ5-",
        "outputId": "3c59b66d-1b10-4f7d-966c-15321b1e06b4"
      },
      "outputs": [
        {
          "output_type": "stream",
          "name": "stdout",
          "text": [
            "AttentionModel(\n",
            "  (fc_q): Linear(in_features=784, out_features=256, bias=True)\n",
            "  (fc_k): Linear(in_features=784, out_features=256, bias=True)\n",
            "  (fc_v): Linear(in_features=256, out_features=1, bias=True)\n",
            ")\n"
          ]
        }
      ],
      "source": [
        "input_dim, num_inputs, hidden_dim = (784, 10, 256)\n",
        "\n",
        "model = AttentionModel(input_dim, num_inputs, hidden_dim)\n",
        "print(model)"
      ]
    },
    {
      "cell_type": "markdown",
      "metadata": {
        "id": "xmp0kuk2z3Rx"
      },
      "source": [
        "### Define the training method and train"
      ]
    },
    {
      "cell_type": "code",
      "execution_count": 8,
      "metadata": {
        "id": "6ZvGWqwDrc-V"
      },
      "outputs": [],
      "source": [
        "def train(model, device, train_loader, criterion, optimizer, epoch, log_interval = 100):\n",
        "    # Method to perform one epoch of training\n",
        "    model.train()\n",
        "    loss_values = []\n",
        "    \n",
        "    for batch_idx, sample_batched in enumerate(train_loader):\n",
        "        data = sample_batched['x'].float()\n",
        "        query = sample_batched['query'].float()\n",
        "        target = sample_batched['y']\n",
        "        #print(data.shape, query.shape)\n",
        "        data, query, target = data.to(device), query.to(device), target.to(device)\n",
        "        \n",
        "        optimizer.zero_grad()\n",
        "        output = model(data, query)\n",
        "        loss = criterion(output, target)\n",
        "        loss.backward()\n",
        "        optimizer.step()\n",
        "        \n",
        "        loss_values.append(loss.detach().cpu().item())        \n",
        "        if batch_idx % log_interval == 0:\n",
        "            print('Train Epoch: {} [{}/{} ({:.0f}%)]\\tLoss: {:.6f}'.format(\n",
        "                epoch, batch_idx * len(data), len(train_loader.dataset),\n",
        "                100. * batch_idx / len(train_loader), loss.item()))\n",
        "        \n",
        "    return loss_values"
      ]
    },
    {
      "cell_type": "code",
      "execution_count": 9,
      "metadata": {
        "colab": {
          "base_uri": "https://localhost:8080/"
        },
        "id": "L_ZTvDKRz9yx",
        "outputId": "b0ab0f74-88db-40e6-b02e-1d755b85e0f4"
      },
      "outputs": [
        {
          "output_type": "stream",
          "name": "stdout",
          "text": [
            "Train Epoch: 1 [0/60000 (0%)]\tLoss: 2.308286\n",
            "Train Epoch: 1 [6400/60000 (11%)]\tLoss: 1.721713\n",
            "Train Epoch: 1 [12800/60000 (21%)]\tLoss: 1.241283\n",
            "Train Epoch: 1 [19200/60000 (32%)]\tLoss: 0.935589\n",
            "Train Epoch: 1 [25600/60000 (43%)]\tLoss: 0.800854\n",
            "Train Epoch: 1 [32000/60000 (53%)]\tLoss: 0.713963\n",
            "Train Epoch: 1 [38400/60000 (64%)]\tLoss: 0.643368\n",
            "Train Epoch: 1 [44800/60000 (75%)]\tLoss: 0.601458\n",
            "Train Epoch: 1 [51200/60000 (85%)]\tLoss: 0.531673\n",
            "Train Epoch: 1 [57600/60000 (96%)]\tLoss: 0.628018\n",
            "Train Epoch: 2 [0/60000 (0%)]\tLoss: 0.399516\n",
            "Train Epoch: 2 [6400/60000 (11%)]\tLoss: 0.439256\n",
            "Train Epoch: 2 [12800/60000 (21%)]\tLoss: 0.368517\n",
            "Train Epoch: 2 [19200/60000 (32%)]\tLoss: 0.763155\n",
            "Train Epoch: 2 [25600/60000 (43%)]\tLoss: 0.324825\n",
            "Train Epoch: 2 [32000/60000 (53%)]\tLoss: 0.383318\n",
            "Train Epoch: 2 [38400/60000 (64%)]\tLoss: 0.672565\n",
            "Train Epoch: 2 [44800/60000 (75%)]\tLoss: 0.339739\n",
            "Train Epoch: 2 [51200/60000 (85%)]\tLoss: 0.400692\n",
            "Train Epoch: 2 [57600/60000 (96%)]\tLoss: 0.472596\n",
            "Train Epoch: 3 [0/60000 (0%)]\tLoss: 0.348922\n",
            "Train Epoch: 3 [6400/60000 (11%)]\tLoss: 0.247985\n",
            "Train Epoch: 3 [12800/60000 (21%)]\tLoss: 0.286613\n",
            "Train Epoch: 3 [19200/60000 (32%)]\tLoss: 0.265976\n",
            "Train Epoch: 3 [25600/60000 (43%)]\tLoss: 0.467828\n",
            "Train Epoch: 3 [32000/60000 (53%)]\tLoss: 0.385360\n",
            "Train Epoch: 3 [38400/60000 (64%)]\tLoss: 0.343152\n",
            "Train Epoch: 3 [44800/60000 (75%)]\tLoss: 0.643389\n",
            "Train Epoch: 3 [51200/60000 (85%)]\tLoss: 0.376104\n",
            "Train Epoch: 3 [57600/60000 (96%)]\tLoss: 0.201644\n",
            "Train Epoch: 4 [0/60000 (0%)]\tLoss: 0.286548\n",
            "Train Epoch: 4 [6400/60000 (11%)]\tLoss: 0.338693\n",
            "Train Epoch: 4 [12800/60000 (21%)]\tLoss: 0.344549\n",
            "Train Epoch: 4 [19200/60000 (32%)]\tLoss: 0.282091\n",
            "Train Epoch: 4 [25600/60000 (43%)]\tLoss: 0.324870\n",
            "Train Epoch: 4 [32000/60000 (53%)]\tLoss: 0.209435\n",
            "Train Epoch: 4 [38400/60000 (64%)]\tLoss: 0.330963\n",
            "Train Epoch: 4 [44800/60000 (75%)]\tLoss: 0.439150\n",
            "Train Epoch: 4 [51200/60000 (85%)]\tLoss: 0.156023\n",
            "Train Epoch: 4 [57600/60000 (96%)]\tLoss: 0.448686\n",
            "Train Epoch: 5 [0/60000 (0%)]\tLoss: 0.352194\n",
            "Train Epoch: 5 [6400/60000 (11%)]\tLoss: 0.276144\n",
            "Train Epoch: 5 [12800/60000 (21%)]\tLoss: 0.362916\n",
            "Train Epoch: 5 [19200/60000 (32%)]\tLoss: 0.237187\n",
            "Train Epoch: 5 [25600/60000 (43%)]\tLoss: 0.271713\n",
            "Train Epoch: 5 [32000/60000 (53%)]\tLoss: 0.294248\n",
            "Train Epoch: 5 [38400/60000 (64%)]\tLoss: 0.320774\n",
            "Train Epoch: 5 [44800/60000 (75%)]\tLoss: 0.240716\n",
            "Train Epoch: 5 [51200/60000 (85%)]\tLoss: 0.357910\n",
            "Train Epoch: 5 [57600/60000 (96%)]\tLoss: 0.183534\n",
            "Train Epoch: 6 [0/60000 (0%)]\tLoss: 0.289074\n",
            "Train Epoch: 6 [6400/60000 (11%)]\tLoss: 0.399158\n",
            "Train Epoch: 6 [12800/60000 (21%)]\tLoss: 0.297080\n",
            "Train Epoch: 6 [19200/60000 (32%)]\tLoss: 0.382688\n",
            "Train Epoch: 6 [25600/60000 (43%)]\tLoss: 0.231256\n",
            "Train Epoch: 6 [32000/60000 (53%)]\tLoss: 0.313541\n",
            "Train Epoch: 6 [38400/60000 (64%)]\tLoss: 0.240274\n",
            "Train Epoch: 6 [44800/60000 (75%)]\tLoss: 0.358316\n",
            "Train Epoch: 6 [51200/60000 (85%)]\tLoss: 0.220544\n",
            "Train Epoch: 6 [57600/60000 (96%)]\tLoss: 0.206440\n",
            "Train Epoch: 7 [0/60000 (0%)]\tLoss: 0.278834\n",
            "Train Epoch: 7 [6400/60000 (11%)]\tLoss: 0.295939\n",
            "Train Epoch: 7 [12800/60000 (21%)]\tLoss: 0.206507\n",
            "Train Epoch: 7 [19200/60000 (32%)]\tLoss: 0.164385\n",
            "Train Epoch: 7 [25600/60000 (43%)]\tLoss: 0.330238\n",
            "Train Epoch: 7 [32000/60000 (53%)]\tLoss: 0.329692\n",
            "Train Epoch: 7 [38400/60000 (64%)]\tLoss: 0.379143\n",
            "Train Epoch: 7 [44800/60000 (75%)]\tLoss: 0.188427\n",
            "Train Epoch: 7 [51200/60000 (85%)]\tLoss: 0.298238\n",
            "Train Epoch: 7 [57600/60000 (96%)]\tLoss: 0.392231\n",
            "Train Epoch: 8 [0/60000 (0%)]\tLoss: 0.301695\n",
            "Train Epoch: 8 [6400/60000 (11%)]\tLoss: 0.448301\n",
            "Train Epoch: 8 [12800/60000 (21%)]\tLoss: 0.241578\n",
            "Train Epoch: 8 [19200/60000 (32%)]\tLoss: 0.104325\n",
            "Train Epoch: 8 [25600/60000 (43%)]\tLoss: 0.183082\n",
            "Train Epoch: 8 [32000/60000 (53%)]\tLoss: 0.107748\n",
            "Train Epoch: 8 [38400/60000 (64%)]\tLoss: 0.426144\n",
            "Train Epoch: 8 [44800/60000 (75%)]\tLoss: 0.517488\n",
            "Train Epoch: 8 [51200/60000 (85%)]\tLoss: 0.248977\n",
            "Train Epoch: 8 [57600/60000 (96%)]\tLoss: 0.284307\n",
            "Train Epoch: 9 [0/60000 (0%)]\tLoss: 0.260365\n",
            "Train Epoch: 9 [6400/60000 (11%)]\tLoss: 0.202310\n",
            "Train Epoch: 9 [12800/60000 (21%)]\tLoss: 0.168028\n",
            "Train Epoch: 9 [19200/60000 (32%)]\tLoss: 0.368300\n",
            "Train Epoch: 9 [25600/60000 (43%)]\tLoss: 0.171140\n",
            "Train Epoch: 9 [32000/60000 (53%)]\tLoss: 0.230612\n",
            "Train Epoch: 9 [38400/60000 (64%)]\tLoss: 0.279146\n",
            "Train Epoch: 9 [44800/60000 (75%)]\tLoss: 0.160516\n",
            "Train Epoch: 9 [51200/60000 (85%)]\tLoss: 0.089957\n",
            "Train Epoch: 9 [57600/60000 (96%)]\tLoss: 0.215955\n",
            "Train Epoch: 10 [0/60000 (0%)]\tLoss: 0.212382\n",
            "Train Epoch: 10 [6400/60000 (11%)]\tLoss: 0.276754\n",
            "Train Epoch: 10 [12800/60000 (21%)]\tLoss: 0.240704\n",
            "Train Epoch: 10 [19200/60000 (32%)]\tLoss: 0.305943\n",
            "Train Epoch: 10 [25600/60000 (43%)]\tLoss: 0.252268\n",
            "Train Epoch: 10 [32000/60000 (53%)]\tLoss: 0.361360\n",
            "Train Epoch: 10 [38400/60000 (64%)]\tLoss: 0.090746\n",
            "Train Epoch: 10 [44800/60000 (75%)]\tLoss: 0.200304\n",
            "Train Epoch: 10 [51200/60000 (85%)]\tLoss: 0.136749\n",
            "Train Epoch: 10 [57600/60000 (96%)]\tLoss: 0.325583\n"
          ]
        }
      ],
      "source": [
        "model = model.to(device)\n",
        "\n",
        "optimizer = optim.Adam(model.parameters())\n",
        "\n",
        "criterion = nn.CrossEntropyLoss()\n",
        "\n",
        "epochs = 10\n",
        "\n",
        "loss_history = []\n",
        "for epoch in range(1, epochs + 1):\n",
        "    loss_values = train(model, device, train_loader, criterion, optimizer, epoch)\n",
        "    loss_history += loss_values"
      ]
    },
    {
      "cell_type": "code",
      "execution_count": 10,
      "metadata": {
        "colab": {
          "base_uri": "https://localhost:8080/",
          "height": 447
        },
        "id": "V1VFBe_Y0Cxx",
        "outputId": "3ecb067d-4b90-4f15-9c8c-14cacfc4f170"
      },
      "outputs": [
        {
          "output_type": "execute_result",
          "data": {
            "text/plain": [
              "[<matplotlib.lines.Line2D at 0x7fa4e523ae60>]"
            ]
          },
          "metadata": {},
          "execution_count": 10
        },
        {
          "output_type": "display_data",
          "data": {
            "text/plain": [
              "<Figure size 640x480 with 1 Axes>"
            ],
            "image/png": "[encoded data removed]"
          },
          "metadata": {}
        }
      ],
      "source": [
        "plt.plot(loss_history)"
      ]
    },
    {
      "cell_type": "markdown",
      "metadata": {
        "id": "jONlgxyaEwC6"
      },
      "source": [
        "### Evaluate the trained model"
      ]
    },
    {
      "cell_type": "code",
      "execution_count": 11,
      "metadata": {
        "id": "izgtCdk5DV01"
      },
      "outputs": [],
      "source": [
        "def evaluate(model, device, test_loader):\n",
        "    model.eval()\n",
        "    total = 0.\n",
        "    ok = 0.\n",
        "    for batch_idx, sample_batched in enumerate(test_loader):\n",
        "        data = sample_batched['x'].float()\n",
        "        query = sample_batched['query'].float()\n",
        "        target = sample_batched['y'].numpy()\n",
        "        data, query = data.to(device), query.to(device)\n",
        "        \n",
        "        output = model(data, query)\n",
        "        pred = np.argmax(output.detach().cpu().numpy(), axis=1)\n",
        "       \n",
        "        ok += np.sum(pred == target)\n",
        "        total += len(test_loader)\n",
        "                \n",
        "    print('Accuracy = ', ok/total)"
      ]
    },
    {
      "cell_type": "code",
      "execution_count": 12,
      "metadata": {
        "colab": {
          "base_uri": "https://localhost:8080/"
        },
        "id": "JYQGuAXpGNU7",
        "outputId": "a3e2604b-f165-4117-df05-a012a5616a9b"
      },
      "outputs": [
        {
          "output_type": "stream",
          "name": "stdout",
          "text": [
            "Accuracy =  91.84\n"
          ]
        }
      ],
      "source": [
        "evaluate(model, device, test_loader)"
      ]
    },
    {
      "cell_type": "markdown",
      "metadata": {
        "id": "CaOoDxjhhjxz"
      },
      "source": [
        "<font color=\"blue\">\n",
        "\n",
        "**EXERCISE 1**: Starting from the previous model as a template, implement the Dot-product Attention scoring function and substitute the additive one we were using before. Retrain and evalute the model.</font>\n",
        "\n",
        "<font color=\"blue\">\n",
        "\n",
        "> Hint: To transpose a tensor along specific dimensions you can use `torch.permute()`\n",
        "</font>\n",
        "\n",
        "\n",
        "<font color=\"blue\">\n",
        "\n",
        "> Hint: To perform a batch matrix-matrix product, use the function `torch.bmm()` https://pytorch.org/docs/stable/generated/torch.bmm.html \n",
        "</font>"
      ]
    },
    {
      "cell_type": "code",
      "execution_count": 49,
      "metadata": {
        "id": "IakObyFQQIk_"
      },
      "outputs": [],
      "source": [
        "class AttentionModel_DotProduct(nn.Module):\n",
        "    def __init__(self, input_dim, num_inputs, hidden_dim):\n",
        "        super(AttentionModel_DotProduct, self).__init__()\n",
        "        self.hidden_dim = hidden_dim\n",
        "        self.num_inputs = num_inputs\n",
        "        self.input_dim  = input_dim\n",
        "\n",
        "        self.fc_q = nn.Linear(input_dim, hidden_dim) \n",
        "        self.fc_k = nn.Linear(input_dim, hidden_dim) \n",
        "        self.fc_v = nn.Linear(hidden_dim, 1)\n",
        "\n",
        "    def scoringDotproduct(self, query, keys):\n",
        "\n",
        "        query = torch.tanh(self.fc_q(query))                     \n",
        "        keys = torch.tanh(self.fc_k(keys)) \n",
        "        keys_T = keys.permute(0, 2, 1)\n",
        "                            \n",
        "        score = torch.bmm(query, keys_T) \n",
        "        score = score / (self.hidden_dim)**0.5 \n",
        "        return score\n",
        "\n",
        "    def forward(self, x, query):\n",
        "        query = query.unsqueeze(1) \n",
        "        \n",
        "        output = self.scoringDotproduct(query, x)\n",
        "        output = output.squeeze()      \n",
        "        return output"
      ]
    },
    {
      "cell_type": "code",
      "source": [
        "input_dim, num_inputs, hidden_dim = (784, 10, 256)\n",
        "\n",
        "modelD = AttentionModel_DotProduct(input_dim, num_inputs, hidden_dim)"
      ],
      "metadata": {
        "id": "GHWsw4qi6wlq"
      },
      "execution_count": 50,
      "outputs": []
    },
    {
      "cell_type": "code",
      "source": [
        "for param in modelD.parameters():\n",
        "    param.requires_grad = True"
      ],
      "metadata": {
        "id": "7nL_IIq662R5"
      },
      "execution_count": 44,
      "outputs": []
    },
    {
      "cell_type": "code",
      "source": [
        "modelD = modelD.to(device)\n",
        "\n",
        "optimizer = optim.Adam(modelD.parameters())\n",
        "\n",
        "criterion = nn.CrossEntropyLoss()"
      ],
      "metadata": {
        "id": "whdGy1rJ67sZ"
      },
      "execution_count": 45,
      "outputs": []
    },
    {
      "cell_type": "code",
      "source": [
        "loss_history = []\n",
        "\n",
        "for epoch in range(21):\n",
        "\n",
        "    loss_values = train(modelD, device, train_loader, criterion, optimizer, epoch)\n",
        "    loss_history += loss_values"
      ],
      "metadata": {
        "id": "g05tvb3kVzUG",
        "colab": {
          "base_uri": "https://localhost:8080/"
        },
        "outputId": "5a277369-a2d2-408f-8fd1-c82faf6c13cf"
      },
      "execution_count": 46,
      "outputs": [
        {
          "output_type": "stream",
          "name": "stdout",
          "text": [
            "Train Epoch: 0 [0/60000 (0%)]\tLoss: 2.299182\n",
            "Train Epoch: 0 [6400/60000 (11%)]\tLoss: 1.149294\n",
            "Train Epoch: 0 [12800/60000 (21%)]\tLoss: 0.950032\n",
            "Train Epoch: 0 [19200/60000 (32%)]\tLoss: 0.558324\n",
            "Train Epoch: 0 [25600/60000 (43%)]\tLoss: 0.770696\n",
            "Train Epoch: 0 [32000/60000 (53%)]\tLoss: 0.764973\n",
            "Train Epoch: 0 [38400/60000 (64%)]\tLoss: 0.571760\n",
            "Train Epoch: 0 [44800/60000 (75%)]\tLoss: 0.759482\n",
            "Train Epoch: 0 [51200/60000 (85%)]\tLoss: 0.705269\n",
            "Train Epoch: 0 [57600/60000 (96%)]\tLoss: 0.540418\n",
            "Train Epoch: 1 [0/60000 (0%)]\tLoss: 0.643358\n",
            "Train Epoch: 1 [6400/60000 (11%)]\tLoss: 0.443180\n",
            "Train Epoch: 1 [12800/60000 (21%)]\tLoss: 0.295565\n",
            "Train Epoch: 1 [19200/60000 (32%)]\tLoss: 0.461095\n",
            "Train Epoch: 1 [25600/60000 (43%)]\tLoss: 0.354146\n",
            "Train Epoch: 1 [32000/60000 (53%)]\tLoss: 0.388051\n",
            "Train Epoch: 1 [38400/60000 (64%)]\tLoss: 0.439208\n",
            "Train Epoch: 1 [44800/60000 (75%)]\tLoss: 0.423975\n",
            "Train Epoch: 1 [51200/60000 (85%)]\tLoss: 0.364995\n",
            "Train Epoch: 1 [57600/60000 (96%)]\tLoss: 0.388535\n",
            "Train Epoch: 2 [0/60000 (0%)]\tLoss: 0.319890\n",
            "Train Epoch: 2 [6400/60000 (11%)]\tLoss: 0.382631\n",
            "Train Epoch: 2 [12800/60000 (21%)]\tLoss: 0.352144\n",
            "Train Epoch: 2 [19200/60000 (32%)]\tLoss: 0.416819\n",
            "Train Epoch: 2 [25600/60000 (43%)]\tLoss: 0.396277\n",
            "Train Epoch: 2 [32000/60000 (53%)]\tLoss: 0.262632\n",
            "Train Epoch: 2 [38400/60000 (64%)]\tLoss: 0.361240\n",
            "Train Epoch: 2 [44800/60000 (75%)]\tLoss: 0.402391\n",
            "Train Epoch: 2 [51200/60000 (85%)]\tLoss: 0.330184\n",
            "Train Epoch: 2 [57600/60000 (96%)]\tLoss: 0.354066\n",
            "Train Epoch: 3 [0/60000 (0%)]\tLoss: 0.273815\n",
            "Train Epoch: 3 [6400/60000 (11%)]\tLoss: 0.397807\n",
            "Train Epoch: 3 [12800/60000 (21%)]\tLoss: 0.368450\n",
            "Train Epoch: 3 [19200/60000 (32%)]\tLoss: 0.412102\n",
            "Train Epoch: 3 [25600/60000 (43%)]\tLoss: 0.430654\n",
            "Train Epoch: 3 [32000/60000 (53%)]\tLoss: 0.277182\n",
            "Train Epoch: 3 [38400/60000 (64%)]\tLoss: 0.336484\n",
            "Train Epoch: 3 [44800/60000 (75%)]\tLoss: 0.257536\n",
            "Train Epoch: 3 [51200/60000 (85%)]\tLoss: 0.371070\n",
            "Train Epoch: 3 [57600/60000 (96%)]\tLoss: 0.534005\n",
            "Train Epoch: 4 [0/60000 (0%)]\tLoss: 0.338406\n",
            "Train Epoch: 4 [6400/60000 (11%)]\tLoss: 0.592366\n",
            "Train Epoch: 4 [12800/60000 (21%)]\tLoss: 0.164898\n",
            "Train Epoch: 4 [19200/60000 (32%)]\tLoss: 0.212743\n",
            "Train Epoch: 4 [25600/60000 (43%)]\tLoss: 0.352503\n",
            "Train Epoch: 4 [32000/60000 (53%)]\tLoss: 0.267173\n",
            "Train Epoch: 4 [38400/60000 (64%)]\tLoss: 0.346858\n",
            "Train Epoch: 4 [44800/60000 (75%)]\tLoss: 0.302163\n",
            "Train Epoch: 4 [51200/60000 (85%)]\tLoss: 0.414733\n",
            "Train Epoch: 4 [57600/60000 (96%)]\tLoss: 0.225628\n",
            "Train Epoch: 5 [0/60000 (0%)]\tLoss: 0.363864\n",
            "Train Epoch: 5 [6400/60000 (11%)]\tLoss: 0.338766\n",
            "Train Epoch: 5 [12800/60000 (21%)]\tLoss: 0.369208\n",
            "Train Epoch: 5 [19200/60000 (32%)]\tLoss: 0.291294\n",
            "Train Epoch: 5 [25600/60000 (43%)]\tLoss: 0.267263\n",
            "Train Epoch: 5 [32000/60000 (53%)]\tLoss: 0.506009\n",
            "Train Epoch: 5 [38400/60000 (64%)]\tLoss: 0.438510\n",
            "Train Epoch: 5 [44800/60000 (75%)]\tLoss: 0.263461\n",
            "Train Epoch: 5 [51200/60000 (85%)]\tLoss: 0.510414\n",
            "Train Epoch: 5 [57600/60000 (96%)]\tLoss: 0.169317\n",
            "Train Epoch: 6 [0/60000 (0%)]\tLoss: 0.399955\n",
            "Train Epoch: 6 [6400/60000 (11%)]\tLoss: 0.219614\n",
            "Train Epoch: 6 [12800/60000 (21%)]\tLoss: 0.196332\n",
            "Train Epoch: 6 [19200/60000 (32%)]\tLoss: 0.291916\n",
            "Train Epoch: 6 [25600/60000 (43%)]\tLoss: 0.245905\n",
            "Train Epoch: 6 [32000/60000 (53%)]\tLoss: 0.209490\n",
            "Train Epoch: 6 [38400/60000 (64%)]\tLoss: 0.291243\n",
            "Train Epoch: 6 [44800/60000 (75%)]\tLoss: 0.213365\n",
            "Train Epoch: 6 [51200/60000 (85%)]\tLoss: 0.253225\n",
            "Train Epoch: 6 [57600/60000 (96%)]\tLoss: 0.325202\n",
            "Train Epoch: 7 [0/60000 (0%)]\tLoss: 0.336035\n",
            "Train Epoch: 7 [6400/60000 (11%)]\tLoss: 0.377135\n",
            "Train Epoch: 7 [12800/60000 (21%)]\tLoss: 0.458284\n",
            "Train Epoch: 7 [19200/60000 (32%)]\tLoss: 0.240750\n",
            "Train Epoch: 7 [25600/60000 (43%)]\tLoss: 0.269661\n",
            "Train Epoch: 7 [32000/60000 (53%)]\tLoss: 0.480818\n",
            "Train Epoch: 7 [38400/60000 (64%)]\tLoss: 0.272192\n",
            "Train Epoch: 7 [44800/60000 (75%)]\tLoss: 0.199938\n",
            "Train Epoch: 7 [51200/60000 (85%)]\tLoss: 0.285268\n",
            "Train Epoch: 7 [57600/60000 (96%)]\tLoss: 0.300296\n",
            "Train Epoch: 8 [0/60000 (0%)]\tLoss: 0.254601\n",
            "Train Epoch: 8 [6400/60000 (11%)]\tLoss: 0.330505\n",
            "Train Epoch: 8 [12800/60000 (21%)]\tLoss: 0.245211\n",
            "Train Epoch: 8 [19200/60000 (32%)]\tLoss: 0.361985\n",
            "Train Epoch: 8 [25600/60000 (43%)]\tLoss: 0.210879\n",
            "Train Epoch: 8 [32000/60000 (53%)]\tLoss: 0.377019\n",
            "Train Epoch: 8 [38400/60000 (64%)]\tLoss: 0.232402\n",
            "Train Epoch: 8 [44800/60000 (75%)]\tLoss: 0.156272\n",
            "Train Epoch: 8 [51200/60000 (85%)]\tLoss: 0.305140\n",
            "Train Epoch: 8 [57600/60000 (96%)]\tLoss: 0.247924\n",
            "Train Epoch: 9 [0/60000 (0%)]\tLoss: 0.200811\n",
            "Train Epoch: 9 [6400/60000 (11%)]\tLoss: 0.372750\n",
            "Train Epoch: 9 [12800/60000 (21%)]\tLoss: 0.195440\n",
            "Train Epoch: 9 [19200/60000 (32%)]\tLoss: 0.350639\n",
            "Train Epoch: 9 [25600/60000 (43%)]\tLoss: 0.264731\n",
            "Train Epoch: 9 [32000/60000 (53%)]\tLoss: 0.182266\n",
            "Train Epoch: 9 [38400/60000 (64%)]\tLoss: 0.139065\n",
            "Train Epoch: 9 [44800/60000 (75%)]\tLoss: 0.364573\n",
            "Train Epoch: 9 [51200/60000 (85%)]\tLoss: 0.346759\n",
            "Train Epoch: 9 [57600/60000 (96%)]\tLoss: 0.352793\n",
            "Train Epoch: 10 [0/60000 (0%)]\tLoss: 0.344179\n",
            "Train Epoch: 10 [6400/60000 (11%)]\tLoss: 0.301985\n",
            "Train Epoch: 10 [12800/60000 (21%)]\tLoss: 0.204727\n",
            "Train Epoch: 10 [19200/60000 (32%)]\tLoss: 0.193384\n",
            "Train Epoch: 10 [25600/60000 (43%)]\tLoss: 0.235162\n",
            "Train Epoch: 10 [32000/60000 (53%)]\tLoss: 0.254201\n",
            "Train Epoch: 10 [38400/60000 (64%)]\tLoss: 0.328596\n",
            "Train Epoch: 10 [44800/60000 (75%)]\tLoss: 0.163734\n",
            "Train Epoch: 10 [51200/60000 (85%)]\tLoss: 0.246871\n",
            "Train Epoch: 10 [57600/60000 (96%)]\tLoss: 0.240140\n",
            "Train Epoch: 11 [0/60000 (0%)]\tLoss: 0.188745\n",
            "Train Epoch: 11 [6400/60000 (11%)]\tLoss: 0.253233\n",
            "Train Epoch: 11 [12800/60000 (21%)]\tLoss: 0.267074\n",
            "Train Epoch: 11 [19200/60000 (32%)]\tLoss: 0.433186\n",
            "Train Epoch: 11 [25600/60000 (43%)]\tLoss: 0.159796\n",
            "Train Epoch: 11 [32000/60000 (53%)]\tLoss: 0.219760\n",
            "Train Epoch: 11 [38400/60000 (64%)]\tLoss: 0.266083\n",
            "Train Epoch: 11 [44800/60000 (75%)]\tLoss: 0.198794\n",
            "Train Epoch: 11 [51200/60000 (85%)]\tLoss: 0.211856\n",
            "Train Epoch: 11 [57600/60000 (96%)]\tLoss: 0.221863\n",
            "Train Epoch: 12 [0/60000 (0%)]\tLoss: 0.235277\n",
            "Train Epoch: 12 [6400/60000 (11%)]\tLoss: 0.238160\n",
            "Train Epoch: 12 [12800/60000 (21%)]\tLoss: 0.225119\n",
            "Train Epoch: 12 [19200/60000 (32%)]\tLoss: 0.299913\n",
            "Train Epoch: 12 [25600/60000 (43%)]\tLoss: 0.206544\n",
            "Train Epoch: 12 [32000/60000 (53%)]\tLoss: 0.215463\n",
            "Train Epoch: 12 [38400/60000 (64%)]\tLoss: 0.260828\n",
            "Train Epoch: 12 [44800/60000 (75%)]\tLoss: 0.283040\n",
            "Train Epoch: 12 [51200/60000 (85%)]\tLoss: 0.181268\n",
            "Train Epoch: 12 [57600/60000 (96%)]\tLoss: 0.202071\n",
            "Train Epoch: 13 [0/60000 (0%)]\tLoss: 0.193384\n",
            "Train Epoch: 13 [6400/60000 (11%)]\tLoss: 0.225820\n",
            "Train Epoch: 13 [12800/60000 (21%)]\tLoss: 0.281820\n",
            "Train Epoch: 13 [19200/60000 (32%)]\tLoss: 0.136970\n",
            "Train Epoch: 13 [25600/60000 (43%)]\tLoss: 0.142217\n",
            "Train Epoch: 13 [32000/60000 (53%)]\tLoss: 0.292829\n",
            "Train Epoch: 13 [38400/60000 (64%)]\tLoss: 0.270310\n",
            "Train Epoch: 13 [44800/60000 (75%)]\tLoss: 0.296399\n",
            "Train Epoch: 13 [51200/60000 (85%)]\tLoss: 0.226662\n",
            "Train Epoch: 13 [57600/60000 (96%)]\tLoss: 0.186649\n",
            "Train Epoch: 14 [0/60000 (0%)]\tLoss: 0.272605\n",
            "Train Epoch: 14 [6400/60000 (11%)]\tLoss: 0.262217\n",
            "Train Epoch: 14 [12800/60000 (21%)]\tLoss: 0.195294\n",
            "Train Epoch: 14 [19200/60000 (32%)]\tLoss: 0.119006\n",
            "Train Epoch: 14 [25600/60000 (43%)]\tLoss: 0.208490\n",
            "Train Epoch: 14 [32000/60000 (53%)]\tLoss: 0.282851\n",
            "Train Epoch: 14 [38400/60000 (64%)]\tLoss: 0.292379\n",
            "Train Epoch: 14 [44800/60000 (75%)]\tLoss: 0.226946\n",
            "Train Epoch: 14 [51200/60000 (85%)]\tLoss: 0.271516\n",
            "Train Epoch: 14 [57600/60000 (96%)]\tLoss: 0.158260\n",
            "Train Epoch: 15 [0/60000 (0%)]\tLoss: 0.259126\n",
            "Train Epoch: 15 [6400/60000 (11%)]\tLoss: 0.311317\n",
            "Train Epoch: 15 [12800/60000 (21%)]\tLoss: 0.153021\n",
            "Train Epoch: 15 [19200/60000 (32%)]\tLoss: 0.233793\n",
            "Train Epoch: 15 [25600/60000 (43%)]\tLoss: 0.245429\n",
            "Train Epoch: 15 [32000/60000 (53%)]\tLoss: 0.232691\n",
            "Train Epoch: 15 [38400/60000 (64%)]\tLoss: 0.218091\n",
            "Train Epoch: 15 [44800/60000 (75%)]\tLoss: 0.390910\n",
            "Train Epoch: 15 [51200/60000 (85%)]\tLoss: 0.217315\n",
            "Train Epoch: 15 [57600/60000 (96%)]\tLoss: 0.365797\n",
            "Train Epoch: 16 [0/60000 (0%)]\tLoss: 0.332523\n",
            "Train Epoch: 16 [6400/60000 (11%)]\tLoss: 0.144649\n",
            "Train Epoch: 16 [12800/60000 (21%)]\tLoss: 0.216491\n",
            "Train Epoch: 16 [19200/60000 (32%)]\tLoss: 0.322638\n",
            "Train Epoch: 16 [25600/60000 (43%)]\tLoss: 0.257128\n",
            "Train Epoch: 16 [32000/60000 (53%)]\tLoss: 0.215033\n",
            "Train Epoch: 16 [38400/60000 (64%)]\tLoss: 0.181631\n",
            "Train Epoch: 16 [44800/60000 (75%)]\tLoss: 0.304918\n",
            "Train Epoch: 16 [51200/60000 (85%)]\tLoss: 0.116409\n",
            "Train Epoch: 16 [57600/60000 (96%)]\tLoss: 0.177389\n",
            "Train Epoch: 17 [0/60000 (0%)]\tLoss: 0.176440\n",
            "Train Epoch: 17 [6400/60000 (11%)]\tLoss: 0.271878\n",
            "Train Epoch: 17 [12800/60000 (21%)]\tLoss: 0.190570\n",
            "Train Epoch: 17 [19200/60000 (32%)]\tLoss: 0.253795\n",
            "Train Epoch: 17 [25600/60000 (43%)]\tLoss: 0.334960\n",
            "Train Epoch: 17 [32000/60000 (53%)]\tLoss: 0.155379\n",
            "Train Epoch: 17 [38400/60000 (64%)]\tLoss: 0.146267\n",
            "Train Epoch: 17 [44800/60000 (75%)]\tLoss: 0.210108\n",
            "Train Epoch: 17 [51200/60000 (85%)]\tLoss: 0.248811\n",
            "Train Epoch: 17 [57600/60000 (96%)]\tLoss: 0.138937\n",
            "Train Epoch: 18 [0/60000 (0%)]\tLoss: 0.170823\n",
            "Train Epoch: 18 [6400/60000 (11%)]\tLoss: 0.192023\n",
            "Train Epoch: 18 [12800/60000 (21%)]\tLoss: 0.148609\n",
            "Train Epoch: 18 [19200/60000 (32%)]\tLoss: 0.302495\n",
            "Train Epoch: 18 [25600/60000 (43%)]\tLoss: 0.187903\n",
            "Train Epoch: 18 [32000/60000 (53%)]\tLoss: 0.166024\n",
            "Train Epoch: 18 [38400/60000 (64%)]\tLoss: 0.302666\n",
            "Train Epoch: 18 [44800/60000 (75%)]\tLoss: 0.219454\n",
            "Train Epoch: 18 [51200/60000 (85%)]\tLoss: 0.230305\n",
            "Train Epoch: 18 [57600/60000 (96%)]\tLoss: 0.151773\n",
            "Train Epoch: 19 [0/60000 (0%)]\tLoss: 0.192678\n",
            "Train Epoch: 19 [6400/60000 (11%)]\tLoss: 0.239666\n",
            "Train Epoch: 19 [12800/60000 (21%)]\tLoss: 0.175691\n",
            "Train Epoch: 19 [19200/60000 (32%)]\tLoss: 0.120736\n",
            "Train Epoch: 19 [25600/60000 (43%)]\tLoss: 0.181303\n",
            "Train Epoch: 19 [32000/60000 (53%)]\tLoss: 0.226942\n",
            "Train Epoch: 19 [38400/60000 (64%)]\tLoss: 0.246283\n",
            "Train Epoch: 19 [44800/60000 (75%)]\tLoss: 0.107382\n",
            "Train Epoch: 19 [51200/60000 (85%)]\tLoss: 0.189592\n",
            "Train Epoch: 19 [57600/60000 (96%)]\tLoss: 0.210074\n",
            "Train Epoch: 20 [0/60000 (0%)]\tLoss: 0.182162\n",
            "Train Epoch: 20 [6400/60000 (11%)]\tLoss: 0.251558\n",
            "Train Epoch: 20 [12800/60000 (21%)]\tLoss: 0.315705\n",
            "Train Epoch: 20 [19200/60000 (32%)]\tLoss: 0.242628\n",
            "Train Epoch: 20 [25600/60000 (43%)]\tLoss: 0.145228\n",
            "Train Epoch: 20 [32000/60000 (53%)]\tLoss: 0.194035\n",
            "Train Epoch: 20 [38400/60000 (64%)]\tLoss: 0.254633\n",
            "Train Epoch: 20 [44800/60000 (75%)]\tLoss: 0.242127\n",
            "Train Epoch: 20 [51200/60000 (85%)]\tLoss: 0.118029\n",
            "Train Epoch: 20 [57600/60000 (96%)]\tLoss: 0.174176\n"
          ]
        }
      ]
    },
    {
      "cell_type": "code",
      "source": [
        "plt.plot(loss_history)"
      ],
      "metadata": {
        "colab": {
          "base_uri": "https://localhost:8080/",
          "height": 447
        },
        "id": "ztwXSVPW7R5C",
        "outputId": "86782b0f-bc9c-4e70-9ef6-12910d6f4129"
      },
      "execution_count": 47,
      "outputs": [
        {
          "output_type": "execute_result",
          "data": {
            "text/plain": [
              "[<matplotlib.lines.Line2D at 0x7fa4cab35960>]"
            ]
          },
          "metadata": {},
          "execution_count": 47
        },
        {
          "output_type": "display_data",
          "data": {
            "text/plain": [
              "<Figure size 640x480 with 1 Axes>"
            ],
            "image/png": "[encoded data removed]"
          },
          "metadata": {}
        }
      ]
    },
    {
      "cell_type": "code",
      "source": [
        "evaluate(modelD, device, test_loader)"
      ],
      "metadata": {
        "colab": {
          "base_uri": "https://localhost:8080/"
        },
        "id": "dol7zjhG7Toy",
        "outputId": "cbb9c195-b9e1-4be1-9612-bbf30d91dfc6"
      },
      "execution_count": 48,
      "outputs": [
        {
          "output_type": "stream",
          "name": "stdout",
          "text": [
            "Accuracy =  93.69\n"
          ]
        }
      ]
    },
    {
      "cell_type": "code",
      "source": [
        "print([p.requires_grad for p in modelD.parameters()])"
      ],
      "metadata": {
        "colab": {
          "base_uri": "https://localhost:8080/"
        },
        "id": "zbKfyEfK7U3J",
        "outputId": "e40ecf43-61ea-4ea6-fdeb-46ecf5751dca"
      },
      "execution_count": 33,
      "outputs": [
        {
          "output_type": "stream",
          "name": "stdout",
          "text": [
            "[True, True, True, True, True, True]\n"
          ]
        }
      ]
    }
  ],
  "metadata": {
    "accelerator": "GPU",
    "colab": {
      "provenance": []
    },
    "kernelspec": {
      "display_name": "pytorch",
      "language": "python",
      "name": "pytorch"
    },
    "language_info": {
      "codemirror_mode": {
        "name": "ipython",
        "version": 3
      },
      "file_extension": ".py",
      "mimetype": "text/x-python",
      "name": "python",
      "nbconvert_exporter": "python",
      "pygments_lexer": "ipython3",
      "version": "3.9.16"
    }
  },
  "nbformat": 4,
  "nbformat_minor": 0
}